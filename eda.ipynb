{
 "cells": [
  {
   "cell_type": "code",
   "execution_count": 2,
   "metadata": {},
   "outputs": [],
   "source": [
    "import os\n",
    "import numpy as np\n",
    "import pandas as pd\n",
    "import seaborn as sns\n",
    "from matplotlib import pyplot as plt"
   ]
  },
  {
   "cell_type": "code",
   "execution_count": 11,
   "metadata": {},
   "outputs": [
    {
     "data": {
      "text/html": [
       "<div>\n",
       "<style scoped>\n",
       "    .dataframe tbody tr th:only-of-type {\n",
       "        vertical-align: middle;\n",
       "    }\n",
       "\n",
       "    .dataframe tbody tr th {\n",
       "        vertical-align: top;\n",
       "    }\n",
       "\n",
       "    .dataframe thead th {\n",
       "        text-align: right;\n",
       "    }\n",
       "</style>\n",
       "<table border=\"1\" class=\"dataframe\">\n",
       "  <thead>\n",
       "    <tr style=\"text-align: right;\">\n",
       "      <th></th>\n",
       "      <th>id</th>\n",
       "      <th>text</th>\n",
       "      <th>label_mean</th>\n",
       "      <th>disputable_post</th>\n",
       "      <th>text_len</th>\n",
       "      <th>label</th>\n",
       "    </tr>\n",
       "  </thead>\n",
       "  <tbody>\n",
       "    <tr>\n",
       "      <th>977</th>\n",
       "      <td>4df1c6e57ae54be19a89acc8f3448083</td>\n",
       "      <td>My Advise today. Do not ever trust a Muslim. I...</td>\n",
       "      <td>5.00</td>\n",
       "      <td>False</td>\n",
       "      <td>81</td>\n",
       "      <td>hate</td>\n",
       "    </tr>\n",
       "    <tr>\n",
       "      <th>6741</th>\n",
       "      <td>8f3262cc3a724196923140bc32dd6eb8</td>\n",
       "      <td>There was a vile man called obama \\nWhos face ...</td>\n",
       "      <td>5.00</td>\n",
       "      <td>False</td>\n",
       "      <td>167</td>\n",
       "      <td>hate</td>\n",
       "    </tr>\n",
       "    <tr>\n",
       "      <th>7243</th>\n",
       "      <td>588befa8b4554765a1b000f2e7ce2912</td>\n",
       "      <td>ICE deportation flight, objected to by Omar ov...</td>\n",
       "      <td>5.00</td>\n",
       "      <td>False</td>\n",
       "      <td>174</td>\n",
       "      <td>hate</td>\n",
       "    </tr>\n",
       "    <tr>\n",
       "      <th>953</th>\n",
       "      <td>c5014eb05ecc4ce49c0664182caabf0c</td>\n",
       "      <td>Apparently at 10:01 covid is more contagious a...</td>\n",
       "      <td>5.00</td>\n",
       "      <td>False</td>\n",
       "      <td>227</td>\n",
       "      <td>hate</td>\n",
       "    </tr>\n",
       "    <tr>\n",
       "      <th>529</th>\n",
       "      <td>23e9f9dd27c749eea02268b80c0ca657</td>\n",
       "      <td>All these females suddenly wanna be decent and...</td>\n",
       "      <td>5.00</td>\n",
       "      <td>False</td>\n",
       "      <td>137</td>\n",
       "      <td>hate</td>\n",
       "    </tr>\n",
       "    <tr>\n",
       "      <th>...</th>\n",
       "      <td>...</td>\n",
       "      <td>...</td>\n",
       "      <td>...</td>\n",
       "      <td>...</td>\n",
       "      <td>...</td>\n",
       "      <td>...</td>\n",
       "    </tr>\n",
       "    <tr>\n",
       "      <th>51</th>\n",
       "      <td>6a5c4ca0f6d04245a5ccdbaa85e25b11</td>\n",
       "      <td>Illegals No Longer Evade Capture. They Want to...</td>\n",
       "      <td>3.25</td>\n",
       "      <td>False</td>\n",
       "      <td>165</td>\n",
       "      <td>hate</td>\n",
       "    </tr>\n",
       "    <tr>\n",
       "      <th>78</th>\n",
       "      <td>70b5fca7b40b4f2486c7514c43834ce8</td>\n",
       "      <td>Time for the Yo'Mamas to fade into the sunset ...</td>\n",
       "      <td>3.25</td>\n",
       "      <td>True</td>\n",
       "      <td>149</td>\n",
       "      <td>hate</td>\n",
       "    </tr>\n",
       "    <tr>\n",
       "      <th>223</th>\n",
       "      <td>5caf9105bf94474094723bd19c89eeff</td>\n",
       "      <td>Yep pork for everybody but American taxpayers</td>\n",
       "      <td>3.20</td>\n",
       "      <td>False</td>\n",
       "      <td>45</td>\n",
       "      <td>hate</td>\n",
       "    </tr>\n",
       "    <tr>\n",
       "      <th>159</th>\n",
       "      <td>3fe582f7ba5a4fff808046c7e17ca684</td>\n",
       "      <td>These thugs are not peaceful, and their intent...</td>\n",
       "      <td>3.20</td>\n",
       "      <td>False</td>\n",
       "      <td>55</td>\n",
       "      <td>hate</td>\n",
       "    </tr>\n",
       "    <tr>\n",
       "      <th>77</th>\n",
       "      <td>60e7e17ebf7d4eefa03c57f4f9d4fe82</td>\n",
       "      <td>PRESIDENTIAL BOSS MAN DONALD TRUMP! ViP JOE CO...</td>\n",
       "      <td>3.20</td>\n",
       "      <td>True</td>\n",
       "      <td>111</td>\n",
       "      <td>hate</td>\n",
       "    </tr>\n",
       "  </tbody>\n",
       "</table>\n",
       "<p>2100 rows × 6 columns</p>\n",
       "</div>"
      ],
      "text/plain": [
       "                                    id  \\\n",
       "977   4df1c6e57ae54be19a89acc8f3448083   \n",
       "6741  8f3262cc3a724196923140bc32dd6eb8   \n",
       "7243  588befa8b4554765a1b000f2e7ce2912   \n",
       "953   c5014eb05ecc4ce49c0664182caabf0c   \n",
       "529   23e9f9dd27c749eea02268b80c0ca657   \n",
       "...                                ...   \n",
       "51    6a5c4ca0f6d04245a5ccdbaa85e25b11   \n",
       "78    70b5fca7b40b4f2486c7514c43834ce8   \n",
       "223   5caf9105bf94474094723bd19c89eeff   \n",
       "159   3fe582f7ba5a4fff808046c7e17ca684   \n",
       "77    60e7e17ebf7d4eefa03c57f4f9d4fe82   \n",
       "\n",
       "                                                   text  label_mean  \\\n",
       "977   My Advise today. Do not ever trust a Muslim. I...        5.00   \n",
       "6741  There was a vile man called obama \\nWhos face ...        5.00   \n",
       "7243  ICE deportation flight, objected to by Omar ov...        5.00   \n",
       "953   Apparently at 10:01 covid is more contagious a...        5.00   \n",
       "529   All these females suddenly wanna be decent and...        5.00   \n",
       "...                                                 ...         ...   \n",
       "51    Illegals No Longer Evade Capture. They Want to...        3.25   \n",
       "78    Time for the Yo'Mamas to fade into the sunset ...        3.25   \n",
       "223       Yep pork for everybody but American taxpayers        3.20   \n",
       "159   These thugs are not peaceful, and their intent...        3.20   \n",
       "77    PRESIDENTIAL BOSS MAN DONALD TRUMP! ViP JOE CO...        3.20   \n",
       "\n",
       "      disputable_post  text_len label  \n",
       "977             False        81  hate  \n",
       "6741            False       167  hate  \n",
       "7243            False       174  hate  \n",
       "953             False       227  hate  \n",
       "529             False       137  hate  \n",
       "...               ...       ...   ...  \n",
       "51              False       165  hate  \n",
       "78               True       149  hate  \n",
       "223             False        45  hate  \n",
       "159             False        55  hate  \n",
       "77               True       111  hate  \n",
       "\n",
       "[2100 rows x 6 columns]"
      ]
     },
     "execution_count": 11,
     "metadata": {},
     "output_type": "execute_result"
    }
   ],
   "source": [
    "#\n",
    "parler_df = pd.read_csv(\"parler_annotated_data.csv\")\n",
    "\n",
    "#\n",
    "parler_df[\"text_len\"] = parler_df.text.str.len()\n",
    "\n",
    "#\n",
    "labels = {0: \"non-hate\", 1: \"hate\"}\n",
    "parler_df[\"label\"] = (parler_df[\"label_mean\"] > 3).astype(int)\n",
    "parler_df[\"label\"] = parler_df[\"label\"].apply(labels.get)\n",
    "\n",
    "\n",
    "#\n",
    "parler_df = parler_df[parler_df.label == \"hate\"]\n",
    "parler_df = parler_df[(parler_df.text_len < 250) & (parler_df.text_len > 10)].sort_values(by=\"label_mean\", ascending=False)\n",
    "parler_df\n"
   ]
  },
  {
   "cell_type": "code",
   "execution_count": 12,
   "metadata": {},
   "outputs": [],
   "source": [
    "parler_df.to_csv(\"to_select_from.csv\", index=False)"
   ]
  },
  {
   "cell_type": "code",
   "execution_count": 29,
   "metadata": {},
   "outputs": [
    {
     "data": {
      "image/png": "[encoded data removed]",
      "text/plain": [
       "<Figure size 600x300 with 2 Axes>"
      ]
     },
     "metadata": {},
     "output_type": "display_data"
    }
   ],
   "source": [
    "g = sns.FacetGrid(parler_df, col=\"label\")\n",
    "g.map(sns.histplot, \"text_len\", kde=True)\n",
    "plt.show()"
   ]
  },
  {
   "cell_type": "code",
   "execution_count": 6,
   "metadata": {},
   "outputs": [
    {
     "data": {
      "image/png": "[encoded data removed]",
      "text/plain": [
       "<Figure size 640x480 with 1 Axes>"
      ]
     },
     "metadata": {},
     "output_type": "display_data"
    }
   ],
   "source": [
    "sns.countplot(parler_df, x=\"hate_target\")\n",
    "plt.show()"
   ]
  }
 ],
 "metadata": {
  "kernelspec": {
   "display_name": "Python 3.9.15 ('nlp_project')",
   "language": "python",
   "name": "python3"
  },
  "language_info": {
   "codemirror_mode": {
    "name": "ipython",
    "version": 3
   },
   "file_extension": ".py",
   "mimetype": "text/x-python",
   "name": "python",
   "nbconvert_exporter": "python",
   "pygments_lexer": "ipython3",
   "version": "3.9.15 | packaged by conda-forge | (main, Nov 22 2022, 08:41:22) [MSC v.1929 64 bit (AMD64)]"
  },
  "orig_nbformat": 4,
  "vscode": {
   "interpreter": {
    "hash": "dc4a0f0dfa5dc45773eb4dc8d09aef3df5311743101bb10060627cd34c116c7f"
   }
  }
 },
 "nbformat": 4,
 "nbformat_minor": 2
}
