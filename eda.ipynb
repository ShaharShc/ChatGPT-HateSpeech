{
 "cells": [
  {
   "attachments": {},
   "cell_type": "markdown",
   "metadata": {},
   "source": [
    "# ***Exploratory Data Analysis***\n",
    "\n",
    "This notebook shows the process of performing exploratory data analysis (EDA)."
   ]
  },
  {
   "attachments": {},
   "cell_type": "markdown",
   "metadata": {},
   "source": [
    "### ***Import packages***\n",
    "\n",
    "Before we begin, let's import all the necessary packages for this notebook:"
   ]
  },
  {
   "cell_type": "code",
   "execution_count": null,
   "metadata": {},
   "outputs": [],
   "source": [
    "import os\n",
    "import numpy as np\n",
    "import pandas as pd\n",
    "import seaborn as sns\n",
    "from matplotlib import pyplot as plt\n",
    "\n",
    "# Set plotting theme\n",
    "sns.set_theme(style=\"whitegrid\")"
   ]
  },
  {
   "attachments": {},
   "cell_type": "markdown",
   "metadata": {},
   "source": [
    "### ***Read data***\n",
    "\n",
    "Next, let's read the data:"
   ]
  },
  {
   "cell_type": "code",
   "execution_count": null,
   "metadata": {},
   "outputs": [],
   "source": [
    "# Read data\n",
    "annotated_df = pd.read_csv(\"annotated_data.csv\")\n",
    "\n",
    "# Add text length column\n",
    "annotated_df[\"text_len\"] = annotated_df.text.str.len()\n",
    "\n",
    "# Print data\n",
    "annotated_df"
   ]
  },
  {
   "attachments": {},
   "cell_type": "markdown",
   "metadata": {},
   "source": [
    "### ***Plot interesting elements in the data***\n",
    "\n",
    "Next, let's creates some plots of the data. We begin with comparing the text length for hat and non-hate groups:"
   ]
  },
  {
   "cell_type": "code",
   "execution_count": null,
   "metadata": {},
   "outputs": [],
   "source": [
    "fig, ax = plt.subplots(1)\n",
    "ax = sns.histplot(\n",
    "    annotated_df, x=\"text_len\", hue=\"hate_label\", alpha=0.6, ax=ax, stat=\"count\"\n",
    ")\n",
    "plt.xlabel(\"Text Length\", labelpad=10, fontsize=22)\n",
    "plt.xticks(fontsize=14)\n",
    "plt.ylabel(\"Count\", labelpad=10, fontsize=22)\n",
    "plt.yticks(fontsize=14)\n",
    "plt.title(\"Text Length\", pad=10, fontsize=24)\n",
    "sns.despine()\n",
    "plt.setp(ax.get_legend().get_texts(), fontsize='22')\n",
    "plt.setp(ax.get_legend().get_title(), fontsize='22')\n",
    "plt.tight_layout()\n",
    "plt.show()"
   ]
  },
  {
   "attachments": {},
   "cell_type": "markdown",
   "metadata": {},
   "source": [
    "Next, let's plot how many of the records in the data are hate & non-hate:"
   ]
  },
  {
   "cell_type": "code",
   "execution_count": null,
   "metadata": {},
   "outputs": [],
   "source": [
    "fig, ax = plt.subplots(1, )\n",
    "ax = sns.countplot(annotated_df, x=\"hate_label\", alpha=0.6)\n",
    "ax.bar_label(ax.containers[0], fontsize=22)\n",
    "plt.xlabel(\"\")\n",
    "plt.ylabel(\"\")\n",
    "plt.yticks([], fontsize=22)\n",
    "plt.xticks(fontsize=22)\n",
    "plt.title(\"Is Post Hate Speech?\", pad=30, fontsize=24)\n",
    "sns.despine(left=True, bottom=True)\n",
    "plt.tight_layout()\n",
    "plt.show()"
   ]
  },
  {
   "attachments": {},
   "cell_type": "markdown",
   "metadata": {},
   "source": [
    "Next, let's plot how many of the hate records we have per group and if they are implicit or explicit:"
   ]
  },
  {
   "cell_type": "code",
   "execution_count": null,
   "metadata": {},
   "outputs": [],
   "source": [
    "fig, ax = plt.subplots(1)\n",
    "ax = sns.countplot(annotated_df, x=\"implicit_hate\", hue=\"hate_target_label\", alpha=0.6)\n",
    "for container in ax.containers:\n",
    "    ax.bar_label(container, fontsize=22)\n",
    "ax.legend(loc='center left', bbox_to_anchor=(1, 0.5), fontsize=22)\n",
    "plt.xlabel(\"\")\n",
    "plt.ylabel(\"\")\n",
    "plt.yticks([])\n",
    "plt.xticks(fontsize=22)\n",
    "plt.title(\"Is Post Implicit Hate?\", pad=30, fontsize=24)\n",
    "sns.despine(left=True, bottom=True)\n",
    "plt.tight_layout()\n",
    "plt.show()"
   ]
  }
 ],
 "metadata": {
  "kernelspec": {
   "display_name": "environment",
   "language": "python",
   "name": "python3"
  },
  "language_info": {
   "codemirror_mode": {
    "name": "ipython",
    "version": 3
   },
   "file_extension": ".py",
   "mimetype": "text/x-python",
   "name": "python",
   "nbconvert_exporter": "python",
   "pygments_lexer": "ipython3",
   "version": "3.9.15"
  },
  "orig_nbformat": 4,
  "vscode": {
   "interpreter": {
    "hash": "7b4f15494c1589fe1cc0fb528e47ce04d963bc216e233210b9f03d2a4efbf08c"
   }
  }
 },
 "nbformat": 4,
 "nbformat_minor": 2
}
